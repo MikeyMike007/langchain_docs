{
 "cells": [
  {
   "cell_type": "markdown",
   "metadata": {},
   "source": [
    "### RunnablePasthrough\n",
    "\n",
    "- **RunnablePassthrough Functionality**:\n",
    "  - `RunnablePassthrough` in LangChain is utilized to transfer inputs either unchanged or with added extra keys.\n",
    "  - It's commonly paired with `RunnableParallel` to assign new keys in a map.\n",
    "\n",
    "- **Key Features of RunnablePassthrough**:\n",
    "  1. **Standard Use**: When used alone, it simply passes the input through unchanged.\n",
    "  2. **Assign Functionality**: When used with `assign`, it takes the input and adds extra arguments specified in the assign function.\n",
    "\n",
    "- **Example Scenario**:\n",
    "  - In a practical application:\n",
    "    - Using `RunnablePassthrough()` on its own results in the input being passed through directly.\n",
    "    - Applying `RunnablePassthrough.assign` with a function modifies the input by adding specified elements.\n",
    "    - The example demonstrates assigning and modifying keys in a map, such as multiplying a numerical value and adding a new element.\n"
   ]
  },
  {
   "cell_type": "code",
   "execution_count": 10,
   "metadata": {},
   "outputs": [
    {
     "data": {
      "text/plain": [
       "{'passed': {'num': 1}, 'extra': {'num': 1, 'mult': 3}, 'modified': 2}"
      ]
     },
     "execution_count": 10,
     "metadata": {},
     "output_type": "execute_result"
    }
   ],
   "source": [
    "from langchain_core.runnables import RunnableParallel, RunnablePassthrough\n",
    "\n",
    "runnable = RunnableParallel(\n",
    "  passed=RunnablePassthrough(),\n",
    "  extra=RunnablePassthrough.assign(mult=lambda x: x[\"num\"] * 3),\n",
    "  modified=lambda x: x[\"num\"] +1\n",
    ")\n",
    "\n",
    "runnable.invoke(\n",
    "  {\n",
    "    \"num\": 1\n",
    "  }\n",
    ")"
   ]
  },
  {
   "cell_type": "markdown",
   "metadata": {},
   "source": [
    "### Retrieval example"
   ]
  },
  {
   "cell_type": "markdown",
   "metadata": {},
   "source": [
    "- **Integration of RunnablePassthrough and RunnableMap**:\n",
    "  - In the given example, `RunnablePassthrough` is used along with `RunnableMap` to handle a specific input format for a prompt.\n",
    "  - The prompt expects a map containing \"context\" and \"question\" keys, while the actual user input includes only the question.\n",
    "  - To address this, the `retriever` is used to obtain the context, and `RunnablePassthrough` ensures the user's question is included under the \"question\" key.\n",
    "  - This setup facilitates the correct processing of both context and user question in the chain, enabling accurate and context-aware response generation.\n",
    "  - `RunnablePassthrough` plays a crucial role in this chain by seamlessly forwarding the user's question to the appropriate components."
   ]
  },
  {
   "cell_type": "code",
   "execution_count": 24,
   "metadata": {},
   "outputs": [
    {
     "data": {
      "text/plain": [
       "'Harrison worked at Kensho.'"
      ]
     },
     "execution_count": 24,
     "metadata": {},
     "output_type": "execute_result"
    }
   ],
   "source": [
    "from langchain.chat_models import ChatOpenAI\n",
    "from langchain.embeddings import OpenAIEmbeddings\n",
    "from langchain.prompts import ChatPromptTemplate\n",
    "from langchain.vectorstores import FAISS\n",
    "from langchain_core.output_parsers import StrOutputParser\n",
    "from langchain_core.runnables import RunnablePassthrough\n",
    "\n",
    "vector_store = FAISS.from_texts(\n",
    "    [ \"Harrison worked at kensho\"],\n",
    "    embedding=OpenAIEmbeddings(),\n",
    ")\n",
    "retreiver = vector_store.as_retriever()\n",
    "model = ChatOpenAI()\n",
    "\n",
    "\n",
    "template = \"\"\"\n",
    "Answer the question based only on the following context: {context}.\n",
    "\n",
    "Question: {question}\n",
    "\"\"\"\n",
    "\n",
    "prompt = ChatPromptTemplate.from_template(template)\n",
    "\n",
    "chain = (\n",
    "    {\"context\": retreiver, \"question\": RunnablePassthrough()}\n",
    "    | prompt\n",
    "    | model\n",
    "    | StrOutputParser()\n",
    ")\n",
    "chain.invoke(\"where did harrison work\")"
   ]
  },
  {
   "cell_type": "code",
   "execution_count": null,
   "metadata": {},
   "outputs": [],
   "source": []
  }
 ],
 "metadata": {
  "kernelspec": {
   "display_name": "langchain_docs",
   "language": "python",
   "name": "python3"
  },
  "language_info": {
   "codemirror_mode": {
    "name": "ipython",
    "version": 3
   },
   "file_extension": ".py",
   "mimetype": "text/x-python",
   "name": "python",
   "nbconvert_exporter": "python",
   "pygments_lexer": "ipython3",
   "version": "3.10.13"
  }
 },
 "nbformat": 4,
 "nbformat_minor": 2
}
